{
 "cells": [
  {
   "cell_type": "code",
   "execution_count": 1,
   "id": "2d2fc003",
   "metadata": {},
   "outputs": [],
   "source": [
    "import pandas as pd\n",
    "import numpy as np\n",
    "import os\n",
    "import shutil\n",
    "import matplotlib.pyplot as plt"
   ]
  },
  {
   "cell_type": "code",
   "execution_count": 2,
   "id": "60818a40",
   "metadata": {},
   "outputs": [],
   "source": [
    "import glob"
   ]
  },
  {
   "cell_type": "code",
   "execution_count": 3,
   "id": "80c97bc0",
   "metadata": {},
   "outputs": [],
   "source": [
    "import numpy as np\n",
    "import os\n",
    "import glob\n",
    "import pickle\n",
    "import math\n",
    "import matplotlib.pyplot as plt\n",
    "import pandas as pd\n",
    "import itertools\n",
    "from numpy import array, dot, round, cross, ceil\n",
    "from numpy.linalg import inv, det, norm\n",
    "from numpy import cross, dot, ceil\n",
    "from numpy.linalg import norm, inv"
   ]
  },
  {
   "cell_type": "code",
   "execution_count": 4,
   "id": "b1222fe1",
   "metadata": {},
   "outputs": [],
   "source": [
    "from openpyxl import Workbook\n",
    "from openpyxl.chart import Reference, LineChart\n",
    "from openpyxl.chart.layout import Layout, ManualLayout\n",
    "from openpyxl.chart.shapes import GraphicalProperties\n",
    "from openpyxl.chart.shapes import GraphicalProperties\n",
    "from openpyxl.drawing.line import LineProperties"
   ]
  },
  {
   "cell_type": "code",
   "execution_count": 5,
   "id": "dffdcb69",
   "metadata": {},
   "outputs": [],
   "source": [
    "def make_excel(ws,name,test_data):\n",
    "    titles = [[\"angle\",\"my_model\",\"cnid_sampling\"]]\n",
    "    test_data = titles + test_data\n",
    "\n",
    "    for i,v in enumerate(test_data):\n",
    "        ws.append(v)\n",
    "\n",
    "    rmin = ws.min_row\n",
    "    rmax = ws.max_row\n",
    "    cmin = ws.min_column\n",
    "    cmax = ws.max_column\n",
    "\n",
    "\n",
    "    chart = LineChart()\n",
    "    src = Reference(ws, min_col=cmin+1, min_row=rmin, max_col=cmax, max_row=rmax)\n",
    "    chart.add_data(src, titles_from_data=True)\n",
    "    cat = Reference(ws, min_col=cmin, min_row=rmin+1, max_row=rmax)  # 項目名の設定\n",
    "    chart.set_categories(cat)\n",
    "    chart.title = f\"({name})\"  # グラフタイトル\n",
    "    chart.x_axis.title = 'x'  # 軸ラベル\n",
    "    chart.y_axis.title = 'y'\n",
    "    chart.anchor = 'A8'  # グラフの表示位置\n",
    "    chart.width = 13  # グラフのサイズ\n",
    "    chart.height = 8\n",
    "\n",
    "\n",
    "    chart.layout = Layout(ManualLayout(x = 0.05, y = 0.05, h = 0.9, w = 0.9, xMode=\"edge\", yMode=\"edge\"))\n",
    "    #プロットエリアの\n",
    "    chart.plot_area.spPr = GraphicalProperties(solidFill = \"f2ffff\", ln =LineProperties(solidFill=\"000000\", w=2*12700))\n",
    "    chart.plot_area.spPr = GraphicalProperties(noFill = True)\n",
    "\n",
    "    ws.add_chart(chart)\n",
    "    wb.save('gbenergy.xlsx')\n",
    "\n",
    "    # 線の色を変更する\n",
    "    chart.ser[0].graphicalProperties.line.solidFill = \"FF0000\"\n",
    "    chart.ser[1].graphicalProperties.line.solidFill = \"00FF00\"\n",
    "    # chart.ser[2].graphicalProperties.line.solidFill = \"0000FF\"\n",
    "    wb.save('gbenergy.xlsx')\n",
    "\n",
    "    # 線種を変更する\n",
    "    # 設定可能な値：'lgDash', 'sysDash', 'dashDot', 'solid', 'sysDashDot',\n",
    "    # 'lgDashDotDot', 'dot', 'sysDot', 'sysDashDotDot', 'dash', 'lgDashDot'\n",
    "    chart.ser[0].graphicalProperties.line.dashStyle = 'solid'\n",
    "    chart.ser[1].graphicalProperties.line.dashStyle = 'solid'\n",
    "    # chart.ser[2].graphicalProperties.line.dashStyle = 'solid'\n",
    "    wb.save('gbenergy.xlsx')\n",
    "\n",
    "    # 線の太さを変更する\n",
    "    chart.ser[0].graphicalProperties.line.width = 10000\n",
    "    chart.ser[1].graphicalProperties.line.width = 10000\n",
    "    # chart.ser[2].graphicalProperties.line.width = 30000\n",
    "    wb.save('gbenergy.xlsx')\n",
    "\n",
    "    # 線を滑らかにする\n",
    "    chart.ser[0].smooth = False\n",
    "    wb.save('gbenergy.xlsx')\n",
    "\n",
    "    # マーカーを変更する\n",
    "    # 設定可能な値：'x', 'auto', 'picture', 'star', 'diamond', 'plus', 'dot',\n",
    "    # 'square', 'dash', 'triangle', 'circle'\n",
    "    chart.ser[0].marker.symbol = 'circle'\n",
    "    chart.ser[1].marker.symbol = 'diamond'\n",
    "    # chart.ser[2].marker.symbol = 'diamond'\n",
    "    wb.save('gbenergy.xlsx')\n",
    "\n",
    "    chart.ser[0].marker.size = 10\n",
    "    chart.ser[1].marker.size = 8\n",
    "    # chart.ser[2].marker.symbol = 'diamond'\n",
    "    wb.save('gbenergy.xlsx')\n",
    "\n",
    "    # マーカーの色を変更する\n",
    "    chart.ser[0].marker.graphicalProperties.line.solidFill = \"FF0000\"\n",
    "    chart.ser[1].marker.graphicalProperties.line.solidFill = \"00FF00\"\n",
    "    # chart.ser[2].marker.graphicalProperties.line.solidFill = \"0000FF\"\n",
    "    wb.save('gbenergy.xlsx')\n",
    "\n",
    "    # グラフの種類を変更する\n",
    "    # chart.grouping = 'stacked'  # 積み上げ折れ線グラフ\n",
    "    # chart.grouping = 'percentStacked'  # 100％積み上げ折れ線グラフ\n",
    "    chart.grouping = 'standard'  # 折れ線グラフ\n",
    "    wb.save('gbenergy.xlsx')"
   ]
  },
  {
   "cell_type": "code",
   "execution_count": 6,
   "id": "a9f627c4",
   "metadata": {},
   "outputs": [],
   "source": [
    "def get_energy(filename):\n",
    "    n_layer,dx,energy = np.loadtxt(filename,unpack=True)\n",
    "    min_energy = energy.min()\n",
    "    return min_energy"
   ]
  },
  {
   "cell_type": "code",
   "execution_count": 7,
   "id": "28e4fe9c",
   "metadata": {},
   "outputs": [],
   "source": [
    "def get_cnid_energy(filename):\n",
    "    a,b,dx,dy,dz,energy,deltax = np.loadtxt(filename,unpack=True)\n",
    "    min_energy = energy.min()\n",
    "    return min_energy"
   ]
  },
  {
   "cell_type": "code",
   "execution_count": 8,
   "id": "0410ccae",
   "metadata": {},
   "outputs": [],
   "source": [
    "def order_indice(test):\n",
    "    test = np.array(test)\n",
    "    test = np.sort(test)\n",
    "    x, y, z = test\n",
    "    if x!=y:\n",
    "        test = np.array([z,y,x])\n",
    "    else:\n",
    "        pass\n",
    "    return test"
   ]
  },
  {
   "cell_type": "code",
   "execution_count": 9,
   "id": "089a96ce",
   "metadata": {},
   "outputs": [],
   "source": [
    "def get_100_gbenergy(dirname):\n",
    "    misangle_list = []\n",
    "    gbe_list = []\n",
    "    for filename in glob.glob(f\"{dirname}/*gb\"):\n",
    "        filename_dash = filename.split(\"/\")[-1]\n",
    "        gbname = filename_dash.split(\"_\")\n",
    "        gbname = gbname[:-1]\n",
    "        gbname = list(map(float, gbname))\n",
    "        tang = min([float(gbname[1])/float(gbname[0]),float(gbname[0])/float(gbname[1])])\n",
    "        mis_angle = 2*(np.arctan(tang)/np.pi*180)\n",
    "        gbe = get_energy(f\"{filename}/results\")\n",
    "        mis_angle = np.round(mis_angle,5)\n",
    "        gbe = np.round(gbe,5)\n",
    "        misangle_list.append(mis_angle)\n",
    "        gbe_list.append(gbe)\n",
    "    result = np.array([misangle_list,gbe_list]).T\n",
    "    col_num = 0\n",
    "    result_sorted = result[np.argsort(result[:, col_num])]\n",
    "    result_sorted = np.vstack([np.array([0,0]),result_sorted,np.array([90,0])])\n",
    "    return result_sorted"
   ]
  },
  {
   "cell_type": "code",
   "execution_count": 10,
   "id": "e476de68",
   "metadata": {},
   "outputs": [],
   "source": [
    "def get_100_cnid_gbenergy(dirname):\n",
    "    misangle_list = []\n",
    "    gbe_list = []\n",
    "    for filename in glob.glob(f\"{dirname}/*gb\"):\n",
    "        filename_dash = filename.split(\"/\")[-1]\n",
    "        gbname = filename_dash.split(\"_\")\n",
    "        gbname = gbname[:-1]\n",
    "        gbname = list(map(float, gbname))\n",
    "        tang = min([float(gbname[1])/float(gbname[0]),float(gbname[0])/float(gbname[1])])\n",
    "        mis_angle = 2*(np.arctan(tang)/np.pi*180)\n",
    "        gbe = get_cnid_energy(f\"{filename}/results\")\n",
    "        mis_angle = np.round(mis_angle,5)\n",
    "        gbe = np.round(gbe,5)\n",
    "        misangle_list.append(mis_angle)\n",
    "        gbe_list.append(gbe)\n",
    "    result = np.array([misangle_list,gbe_list]).T\n",
    "    col_num = 0\n",
    "    result_sorted = result[np.argsort(result[:, col_num])]\n",
    "    result_sorted = np.vstack([np.array([0,0]),result_sorted,np.array([90,0])])\n",
    "    return result_sorted"
   ]
  },
  {
   "cell_type": "code",
   "execution_count": 11,
   "id": "a52a2ab4",
   "metadata": {},
   "outputs": [],
   "source": [
    "def get_110_gbenergy(dirname):\n",
    "    misangle_list = []\n",
    "    gbe_list = []\n",
    "    for filename in glob.glob(f\"{dirname}/*gb\"):\n",
    "        filename_dash = filename.split(\"/\")[-1]\n",
    "        gbname = filename_dash.split(\"_\")\n",
    "        gbname = gbname[:-1]\n",
    "        gbname = list(map(float, gbname))\n",
    "        gbname = order_indice(gbname)\n",
    "        x, y, z = gbname\n",
    "        tang = z/np.sqrt(x**2 + y**2)\n",
    "        mis_angle = 2*(np.arctan(tang)/np.pi*180)\n",
    "        mis_angle = abs(mis_angle)\n",
    "        gbe = get_energy(f\"{filename}/results\")   \n",
    "        mis_angle = np.round(mis_angle,5)\n",
    "        gbe = np.round(gbe,5)\n",
    "        misangle_list.append(mis_angle)\n",
    "        gbe_list.append(gbe)\n",
    "    result = np.array([misangle_list,gbe_list]).T\n",
    "    col_num = 0\n",
    "    result_sorted = result[np.argsort(result[:, col_num])]\n",
    "    result_sorted = np.vstack([np.array([0,0]),result_sorted,np.array([180,0])])\n",
    "    return result_sorted"
   ]
  },
  {
   "cell_type": "code",
   "execution_count": 12,
   "id": "f417a441",
   "metadata": {},
   "outputs": [],
   "source": [
    "def get_110_cnid_gbenergy(dirname):\n",
    "    misangle_list = []\n",
    "    gbe_list = []\n",
    "    for filename in glob.glob(f\"{dirname}/*gb\"):\n",
    "        filename_dash = filename.split(\"/\")[-1]\n",
    "        gbname = filename_dash.split(\"_\")\n",
    "        gbname = gbname[:-1]\n",
    "        gbname = list(map(float, gbname))\n",
    "        gbname = order_indice(gbname)\n",
    "        x, y, z = gbname\n",
    "        tang = z/np.sqrt(x**2 + y**2)\n",
    "        mis_angle = 2*(np.arctan(tang)/np.pi*180)\n",
    "        mis_angle = abs(mis_angle)\n",
    "        gbe = get_cnid_energy(f\"{filename}/results\")\n",
    "        mis_angle = np.round(mis_angle,5)\n",
    "        gbe = np.round(gbe,5)\n",
    "        misangle_list.append(mis_angle)\n",
    "        gbe_list.append(gbe)\n",
    "    result = np.array([misangle_list,gbe_list]).T\n",
    "    col_num = 0\n",
    "    result_sorted = result[np.argsort(result[:, col_num])]\n",
    "    result_sorted = np.vstack([np.array([0,0]),result_sorted,np.array([180,0])])\n",
    "    return result_sorted"
   ]
  },
  {
   "cell_type": "code",
   "execution_count": 13,
   "id": "08b9dc88",
   "metadata": {},
   "outputs": [],
   "source": [
    "def get_111_gbenergy(dirname):\n",
    "    misangle_list = []\n",
    "    gbe_list = []\n",
    "    baselist = []\n",
    "    for i in list(itertools.permutations([1,-1,0])):\n",
    "        baselist.append(list(i))\n",
    "    for filename in glob.glob(f\"{dirname}/*gb\"):\n",
    "        filename_dash = filename.split(\"/\")[-1]\n",
    "        gbname = filename_dash.split(\"_\")\n",
    "        gbname = gbname[:-1]\n",
    "        gbname = list(map(float, gbname))\n",
    "        gbname = [-gbname[0],gbname[1],gbname[2]]\n",
    "        misorientation_list = []\n",
    "        for base in baselist:\n",
    "            cos = dot(gbname,base)/(norm(gbname)*norm(base))\n",
    "            mis_orientation = 2*(np.arccos(cos)/np.pi*180)\n",
    "            mis_orientation =  abs(mis_orientation)\n",
    "            misorientation_list.append(mis_orientation)\n",
    "        mis_angle = min(misorientation_list)\n",
    "        gbe = get_energy(f\"{filename}/results\") \n",
    "        mis_angle = np.round(mis_angle,5)\n",
    "        gbe = np.round(gbe,5)\n",
    "        misangle_list.append(mis_angle)\n",
    "        gbe_list.append(gbe)\n",
    "    result = np.array([misangle_list,gbe_list]).T\n",
    "    col_num = 0\n",
    "    result_sorted = result[np.argsort(result[:, col_num])]\n",
    "    return result_sorted"
   ]
  },
  {
   "cell_type": "code",
   "execution_count": 14,
   "id": "db9f9516",
   "metadata": {},
   "outputs": [],
   "source": [
    "def get_111_cnid_gbenergy(dirname):\n",
    "    misangle_list = []\n",
    "    gbe_list = []\n",
    "    baselist = []\n",
    "    for i in list(itertools.permutations([1,-1,0])):\n",
    "        baselist.append(list(i))\n",
    "    for filename in glob.glob(f\"{dirname}/*gb\"):\n",
    "        filename_dash = filename.split(\"/\")[-1]\n",
    "        gbname = filename_dash.split(\"_\")\n",
    "        gbname = gbname[:-1]\n",
    "        gbname = list(map(float, gbname))\n",
    "        gbname = [-gbname[0],gbname[1],gbname[2]]\n",
    "        misorientation_list = []\n",
    "        for base in baselist:\n",
    "            cos = dot(gbname,base)/(norm(gbname)*norm(base))\n",
    "            mis_orientation = 2*(np.arccos(cos)/np.pi*180)\n",
    "            mis_orientation =  abs(mis_orientation)\n",
    "            misorientation_list.append(mis_orientation)\n",
    "        mis_angle = min(misorientation_list)\n",
    "        gbe = get_cnid_energy(f\"{filename}/results\")\n",
    "        mis_angle = np.round(mis_angle,5)\n",
    "        gbe = np.round(gbe,5)\n",
    "        misangle_list.append(mis_angle)\n",
    "        gbe_list.append(gbe)\n",
    "    result = np.array([misangle_list,gbe_list]).T\n",
    "    col_num = 0\n",
    "    result_sorted = result[np.argsort(result[:, col_num])]\n",
    "    return result_sorted"
   ]
  },
  {
   "cell_type": "code",
   "execution_count": null,
   "id": "593479be",
   "metadata": {},
   "outputs": [],
   "source": []
  },
  {
   "cell_type": "code",
   "execution_count": 102,
   "id": "49c7e355",
   "metadata": {
    "scrolled": true
   },
   "outputs": [
    {
     "name": "stdout",
     "output_type": "stream",
     "text": [
      "results/Ag100\n",
      "Ag100\n",
      "100\n",
      "results/Ag110\n",
      "Ag110\n",
      "110\n",
      "results/Ag111\n",
      "Ag111\n",
      "111\n",
      "results/Al100\n",
      "Al100\n",
      "100\n",
      "results/Al110\n",
      "Al110\n",
      "110\n",
      "results/Al111\n",
      "Al111\n",
      "111\n",
      "results/Au100\n",
      "Au100\n",
      "100\n",
      "results/Au110\n",
      "Au110\n",
      "110\n",
      "results/Au111\n",
      "Au111\n",
      "111\n",
      "results/Cu100\n",
      "Cu100\n",
      "100\n",
      "results/Cu110\n",
      "Cu110\n",
      "110\n",
      "results/Cu111\n",
      "Cu111\n",
      "111\n",
      "results/Fe100\n",
      "Fe100\n",
      "100\n",
      "results/Fe110\n",
      "Fe110\n",
      "110\n",
      "results/Fe111\n",
      "Fe111\n",
      "111\n",
      "results/Mo100\n",
      "Mo100\n",
      "100\n",
      "results/Mo110\n",
      "Mo110\n",
      "110\n",
      "results/Mo111\n",
      "Mo111\n",
      "111\n",
      "results/Nb100\n",
      "Nb100\n",
      "100\n",
      "results/Nb110\n",
      "Nb110\n",
      "110\n",
      "results/Nb111\n",
      "Nb111\n",
      "111\n",
      "results/Ni100\n",
      "Ni100\n",
      "100\n",
      "results/Ni110\n",
      "Ni110\n",
      "110\n",
      "results/Ni111\n",
      "Ni111\n",
      "111\n",
      "results/Pb100\n",
      "Pb100\n",
      "100\n",
      "results/Pb110\n",
      "Pb110\n",
      "110\n",
      "results/Pb111\n",
      "Pb111\n",
      "111\n",
      "results/Pd100\n",
      "Pd100\n",
      "100\n",
      "results/Pd110\n",
      "Pd110\n",
      "110\n",
      "results/Pd111\n",
      "Pd111\n",
      "111\n",
      "results/Pt100\n",
      "Pt100\n",
      "100\n",
      "results/Pt110\n",
      "Pt110\n",
      "110\n",
      "results/Pt111\n",
      "Pt111\n",
      "111\n",
      "results/Ta100\n",
      "Ta100\n",
      "100\n",
      "results/Ta110\n",
      "Ta110\n",
      "110\n",
      "results/Ta111\n",
      "Ta111\n",
      "111\n",
      "results/V100\n",
      "V100\n",
      "100\n",
      "results/V110\n",
      "V110\n",
      "110\n",
      "results/V111\n",
      "V111\n",
      "111\n",
      "results/W100\n",
      "W100\n",
      "100\n",
      "results/W110\n",
      "W110\n",
      "110\n",
      "results/W111\n",
      "W111\n",
      "111\n"
     ]
    }
   ],
   "source": [
    "for dirname in glob.glob(\"results/*\"):\n",
    "    print(dirname)\n",
    "    dirname = dirname.split(\"/\")[-1]\n",
    "    print(dirname)\n",
    "    axis = \"\".join(list(dirname)[-3:])\n",
    "    print(axis)"
   ]
  },
  {
   "cell_type": "code",
   "execution_count": 21,
   "id": "b0979ef5",
   "metadata": {},
   "outputs": [
    {
     "name": "stdout",
     "output_type": "stream",
     "text": [
      "results/Ag100\n",
      "results2/Ag100\n",
      "Ag100\n",
      "100\n",
      "results/Al100\n",
      "results2/Al100\n",
      "Al100\n",
      "100\n"
     ]
    }
   ],
   "source": [
    "for dirname in glob.glob(\"results/*\"):\n",
    "    name = dirname.split(\"/\")[-1]\n",
    "    name_dash = name.split(\"_\")[0]\n",
    "    axis = \"\".join(list(name_dash)[-3:])\n",
    "    print(dirname)\n",
    "    print(f\"results2/{name}\")\n",
    "    print(name)\n",
    "    print(axis)"
   ]
  },
  {
   "cell_type": "code",
   "execution_count": 38,
   "id": "e0429173",
   "metadata": {},
   "outputs": [
    {
     "data": {
      "text/plain": [
       "<function __main__.get_100_cnid_gbenegy(dirname)>"
      ]
     },
     "execution_count": 38,
     "metadata": {},
     "output_type": "execute_result"
    }
   ],
   "source": [
    "get_100_cnid_gbenegy"
   ]
  },
  {
   "cell_type": "code",
   "execution_count": 55,
   "id": "0909948e",
   "metadata": {
    "scrolled": true
   },
   "outputs": [
    {
     "data": {
      "text/plain": [
       "array([[  0.     ,   0.     ,   0.     ],\n",
       "       [  8.79741, 452.11455, 452.12141],\n",
       "       [ 10.38886, 491.59223, 491.60882],\n",
       "       [ 12.68038, 538.95761, 539.01343],\n",
       "       [ 14.25003, 566.23156, 566.23755],\n",
       "       [ 16.2602 , 596.50502, 596.60499],\n",
       "       [ 18.92464, 622.17899, 622.22225],\n",
       "       [ 22.61986, 641.27933, 641.52768],\n",
       "       [ 25.98923, 658.06025, 658.35008],\n",
       "       [ 28.07249, 645.71238, 645.78039],\n",
       "       [ 31.89079, 652.97177, 653.04041],\n",
       "       [ 36.8699 , 607.80502, 608.06671],\n",
       "       [ 41.11209, 661.73279, 661.86385],\n",
       "       [ 42.07502, 667.74593, 667.98962],\n",
       "       [ 43.60282, 667.6759 , 667.89431],\n",
       "       [ 46.39718, 677.44604, 677.75206],\n",
       "       [ 47.92498, 677.53692, 677.70981],\n",
       "       [ 48.88791, 674.90464, 675.22356],\n",
       "       [ 53.1301 , 612.35873, 612.35878],\n",
       "       [ 58.10921, 632.56591, 632.60988],\n",
       "       [ 61.92751, 599.9158 , 598.64267],\n",
       "       [ 64.01077, 590.97047, 591.1552 ],\n",
       "       [ 67.38014, 548.83625, 548.83878],\n",
       "       [ 71.07536, 525.61865, 525.27448],\n",
       "       [ 73.7398 , 487.23149, 487.26028],\n",
       "       [ 75.74997, 464.42574, 464.37517],\n",
       "       [ 77.31962, 435.764  , 435.8752 ],\n",
       "       [ 79.61114, 393.78298, 393.99492],\n",
       "       [ 81.20259, 359.171  , 359.24534],\n",
       "       [ 90.     ,   0.     ,   0.     ]])"
      ]
     },
     "execution_count": 55,
     "metadata": {},
     "output_type": "execute_result"
    }
   ],
   "source": [
    "np.hstack((result_sorted,result_sorted_cnid[:,1].reshape(-1,1)))"
   ]
  },
  {
   "cell_type": "code",
   "execution_count": 21,
   "id": "2194fba1",
   "metadata": {},
   "outputs": [
    {
     "data": {
      "text/plain": [
       "'/homenfs1/yhata/calc/220506'"
      ]
     },
     "execution_count": 21,
     "metadata": {},
     "output_type": "execute_result"
    }
   ],
   "source": [
    "os.getcwd()"
   ]
  },
  {
   "cell_type": "code",
   "execution_count": 24,
   "id": "f07c61d4",
   "metadata": {},
   "outputs": [
    {
     "data": {
      "text/plain": [
       "['results/Ag100',\n",
       " 'results/Al100',\n",
       " 'results/Au100',\n",
       " 'results/Cu110',\n",
       " 'results/Ni100',\n",
       " 'results/Pb100',\n",
       " 'results/Pd100',\n",
       " 'results/Pt100']"
      ]
     },
     "execution_count": 24,
     "metadata": {},
     "output_type": "execute_result"
    }
   ],
   "source": [
    "glob.glob(\"results/*\")"
   ]
  },
  {
   "cell_type": "code",
   "execution_count": 122,
   "id": "99be3018",
   "metadata": {},
   "outputs": [
    {
     "name": "stdout",
     "output_type": "stream",
     "text": [
      "results/Ag100\n",
      "Ag100\n",
      "100\n",
      "results/Al100\n",
      "Al100\n",
      "100\n",
      "results/Au100\n",
      "Au100\n",
      "100\n",
      "results/Cu110\n",
      "Cu110\n",
      "110\n",
      "results/Ni100\n",
      "Ni100\n",
      "100\n",
      "results/Pb100\n",
      "Pb100\n",
      "100\n",
      "results/Pd100\n",
      "Pd100\n",
      "100\n",
      "results/Pt100\n",
      "Pt100\n",
      "100\n"
     ]
    }
   ],
   "source": [
    "# first_loop=True\n",
    "\n",
    "wb = Workbook()\n",
    "\n",
    "for i,dirname in enumerate(glob.glob(\"results/*\")):\n",
    "    print(dirname)\n",
    "    name = dirname.split(\"/\")[-1]\n",
    "    name_dash = name.split(\"_\")[0]\n",
    "    axis = \"\".join(list(name_dash)[-3:])\n",
    "    print(name)\n",
    "    print(axis)\n",
    "    if i == 0:\n",
    "        ws = wb.active\n",
    "        ws.title = f\"{name}\"\n",
    "\n",
    "    else:\n",
    "        ws = wb.create_sheet(title = f\"{name}\")\n",
    "    \n",
    "    if axis==\"100\":\n",
    "        result_sorted = get_100_gbenergy(dirname)\n",
    "        result_sorted_cnid = get_100_cnid_gbenergy(f\"results2/{name}\")\n",
    "        result_tot = np.hstack((result_sorted,result_sorted_cnid[:,1].reshape(-1,1))).tolist()\n",
    "        make_excel(ws,name_dash,result_tot)\n",
    "#         gbname = np.repeat(f\"{name}\",len(result_sorted))\n",
    "#         result_sorted = np.hstack((result_sorted,gbname.reshape(-1,1)))\n",
    "    elif axis==\"110\":\n",
    "        result_sorted = get_110_gbenergy(dirname)\n",
    "        result_sorted_cnid = get_110_cnid_gbenergy(f\"results2/{name}\")\n",
    "        result_tot = np.hstack((result_sorted,result_sorted_cnid[:,1].reshape(-1,1))).tolist()\n",
    "        make_excel(ws,name_dash,result_tot)\n",
    "#         gbname = np.repeat(f\"{name}\",len(result_sorted))\n",
    "#         result_sorted = np.hstack((result_sorted,gbname.reshape(-1,1)))\n",
    "    else:\n",
    "        result_sorted = get_111_gbenergy(dirname)\n",
    "        result_sorted_cnid = get_111_cnid_gbenergy(f\"results2/{name}\")\n",
    "        result_tot = np.hstack((result_sorted,result_sorted_cnid[:,1].reshape(-1,1))).tolist()\n",
    "        make_excel(ws,name_dash,result_tot)\n",
    "#         gbname = np.repeat(f\"{name}\",len(result_sorted))\n",
    "#         result_sorted = np.hstack((result_sorted,gbname.reshape(-1,1)))\n",
    "\n",
    "#     if first_loop==True:\n",
    "#         result_tot = result_sorted\n",
    "#         first_loop=False\n",
    "#     else:\n",
    "#         result_tot = np.vstack((result_tot,result_sorted))"
   ]
  },
  {
   "cell_type": "code",
   "execution_count": 28,
   "id": "6722e77e",
   "metadata": {},
   "outputs": [],
   "source": [
    "from csl_generator import getsigmas"
   ]
  },
  {
   "cell_type": "code",
   "execution_count": 94,
   "id": "687b12e8",
   "metadata": {},
   "outputs": [
    {
     "data": {
      "text/plain": [
       "array([[ 3.        ,  7.        , 13.        , 19.        , 31.        ,\n",
       "        37.        , 43.        , 49.        , 61.        , 67.        ,\n",
       "        73.        , 79.        , 91.        , 97.        ],\n",
       "       [60.        , 38.2132107 , 27.7957725 , 46.82644889, 17.89655113,\n",
       "        50.56999209, 15.17817894, 43.5735786 , 52.65900698, 24.43269768,\n",
       "        11.63505129, 33.99217611, 10.41743821, 30.5906886 ]])"
      ]
     },
     "execution_count": 94,
     "metadata": {},
     "output_type": "execute_result"
    }
   ],
   "source": [
    "np.array(getsigmas([1,1,1],100))"
   ]
  },
  {
   "cell_type": "code",
   "execution_count": 66,
   "id": "2d2707ac",
   "metadata": {
    "scrolled": true
   },
   "outputs": [
    {
     "data": {
      "text/plain": [
       "array([[ 3.        ,  9.        , 11.        , 17.        , 19.        ,\n",
       "        27.        , 33.        , 41.        , 43.        , 51.        ,\n",
       "        57.        , 59.        , 67.        , 73.        , 81.        ,\n",
       "        83.        , 89.        , 97.        , 99.        ],\n",
       "       [11.53636237, 13.44273868, 16.09893395, 17.86028367, 20.04997572,\n",
       "        26.52535202, 31.5863381 , 34.89270467, 38.94244127, 44.00342735,\n",
       "        45.97953555, 50.47880364, 55.87670546, 61.01791773, 62.43939689,\n",
       "        70.52877937, 77.88488254, 80.63108442, 86.62771332]])"
      ]
     },
     "execution_count": 66,
     "metadata": {},
     "output_type": "execute_result"
    }
   ],
   "source": [
    "np.sort(np.array(getsigmas([1,1,0],100)))"
   ]
  },
  {
   "cell_type": "code",
   "execution_count": 33,
   "id": "7423ff34",
   "metadata": {
    "scrolled": false
   },
   "outputs": [
    {
     "name": "stdout",
     "output_type": "stream",
     "text": [
      "[[ 3.          7.         13.         19.         31.         37.\n",
      "  43.         49.         61.         67.         73.         79.\n",
      "  91.         97.        ]\n",
      " [60.         38.2132107  27.7957725  46.82644889 17.89655113 50.56999209\n",
      "  15.17817894 43.5735786  52.65900698 24.43269768 11.63505129 33.99217611\n",
      "  10.41743821 30.5906886 ]]\n"
     ]
    }
   ],
   "source": [
    "a_2d_sort_col_num = np.array(getsigmas([1,1,1],100))[np.argsort(np.array(getsigmas([1,1,1],100))[:, 0])]\n",
    "print(a_2d_sort_col_num)"
   ]
  },
  {
   "cell_type": "code",
   "execution_count": 56,
   "id": "101cf793",
   "metadata": {},
   "outputs": [],
   "source": [
    "files = os.listdir(\"twist_Cu/\")\n",
    "file = files[0]"
   ]
  },
  {
   "cell_type": "code",
   "execution_count": 57,
   "id": "a63b0a44",
   "metadata": {},
   "outputs": [],
   "source": [
    "new_filename = \"_\".join(file.split(\"_\")[1:])\n",
    "category = file.split(\"_\")[0]"
   ]
  },
  {
   "cell_type": "code",
   "execution_count": 58,
   "id": "57eb77fd",
   "metadata": {},
   "outputs": [
    {
     "data": {
      "text/plain": [
       "('110', '89_gb')"
      ]
     },
     "execution_count": 58,
     "metadata": {},
     "output_type": "execute_result"
    }
   ],
   "source": [
    "category,new_filename"
   ]
  },
  {
   "cell_type": "code",
   "execution_count": 64,
   "id": "89063ba4",
   "metadata": {},
   "outputs": [],
   "source": [
    "for file in os.listdir(\"twist_Cu_cnid/\"):\n",
    "    new_filename = \"_\".join(file.split(\"_\")[1:])\n",
    "    category = file.split(\"_\")[0]\n",
    "    if category not in os.listdir(\"new_dirs2\"):\n",
    "        os.mkdir(f\"{os.getcwd()}/new_dirs2/{category}\")\n",
    "#     else:\n",
    "#         print(\"すでにフォルダが存在します\")\n",
    "    shutil.move(f\"twist_Cu_cnid/{file}\",f\"new_dirs2/{category}/{new_filename}\")"
   ]
  },
  {
   "cell_type": "code",
   "execution_count": null,
   "id": "9878c872",
   "metadata": {},
   "outputs": [],
   "source": []
  },
  {
   "cell_type": "code",
   "execution_count": null,
   "id": "8f25a6ab",
   "metadata": {},
   "outputs": [],
   "source": []
  },
  {
   "cell_type": "code",
   "execution_count": 99,
   "id": "53dae32b",
   "metadata": {},
   "outputs": [],
   "source": [
    "def get_twist_energy(filename):\n",
    "    index,n1,n2,energy = np.loadtxt(filename,unpack=True)\n",
    "    min_energy = energy.min()\n",
    "    return min_energy"
   ]
  },
  {
   "cell_type": "code",
   "execution_count": 111,
   "id": "19b65419",
   "metadata": {},
   "outputs": [],
   "source": [
    "def get_100_twist_gbenergy(dirname):\n",
    "    sigma_list = []\n",
    "    gbe_list = []\n",
    "    for filename in glob.glob(f\"{dirname}/*gb\"):\n",
    "        filename_dash = filename.split(\"/\")[-1]\n",
    "#         gbname = filename_dash.split(\"_\")\n",
    "#         gbname = gbname[:-1]\n",
    "#         gbname = list(map(float, gbname))\n",
    "#         tang = min([float(gbname[1])/float(gbname[0]),float(gbname[0])/float(gbname[1])])\n",
    "#         mis_angle = 2*(np.arctan(tang)/np.pi*180)\n",
    "        sigma = int(filename_dash.split(\"_\")[0])\n",
    "        gbe = get_twist_energy(f\"{filename}/results\")\n",
    "#         mis_angle = np.round(mis_angle,5)\n",
    "        \n",
    "        gbe = np.round(gbe,5)\n",
    "        sigma_list.append(sigma)\n",
    "        gbe_list.append(gbe)\n",
    "    result = np.array([sigma_list,gbe_list]).T\n",
    "    col_num = 0\n",
    "    result_sorted = result[np.argsort(result[:, col_num])]\n",
    "    result_sorted = np.hstack((np.array(getsigmas([1,0,0],100))[1].reshape(-1,1),result_sorted[:,1].reshape(-1,1)))\n",
    "    result_sorted = np.vstack([np.array([0,0]),result_sorted,np.array([45,0])])\n",
    "    result_sorted = result_sorted[np.argsort(result_sorted[:, col_num])]\n",
    "    return result_sorted"
   ]
  },
  {
   "cell_type": "code",
   "execution_count": 112,
   "id": "0279e118",
   "metadata": {},
   "outputs": [],
   "source": [
    "def get_100_cnid_twist_gbenergy(dirname):\n",
    "    sigma_list = []\n",
    "    gbe_list = []\n",
    "    for filename in glob.glob(f\"{dirname}/*gb\"):\n",
    "        filename_dash = filename.split(\"/\")[-1]\n",
    "#         gbname = filename_dash.split(\"_\")\n",
    "#         gbname = gbname[:-1]\n",
    "#         gbname = list(map(float, gbname))\n",
    "#         tang = min([float(gbname[1])/float(gbname[0]),float(gbname[0])/float(gbname[1])])\n",
    "#         mis_angle = 2*(np.arctan(tang)/np.pi*180)\n",
    "        sigma = int(filename_dash.split(\"_\")[0])\n",
    "        gbe = get_cnid_energy(f\"{filename}/results\")\n",
    "#         mis_angle = np.round(mis_angle,5)\n",
    "        \n",
    "        gbe = np.round(gbe,5)\n",
    "        sigma_list.append(sigma)\n",
    "        gbe_list.append(gbe)\n",
    "    result = np.array([sigma_list,gbe_list]).T\n",
    "    col_num = 0\n",
    "    result_sorted = result[np.argsort(result[:, col_num])]\n",
    "    result_sorted = np.hstack((np.array(getsigmas([1,0,0],100))[1].reshape(-1,1),result_sorted[:,1].reshape(-1,1)))\n",
    "    result_sorted = np.vstack([np.array([0,0]),result_sorted,np.array([45,0])])\n",
    "    result_sorted = result_sorted[np.argsort(result_sorted[:, col_num])]\n",
    "    return result_sorted"
   ]
  },
  {
   "cell_type": "code",
   "execution_count": 113,
   "id": "efe2916b",
   "metadata": {},
   "outputs": [],
   "source": [
    "def get_110_twist_gbenergy(dirname):\n",
    "    sigma_list = []\n",
    "    gbe_list = []\n",
    "    for filename in glob.glob(f\"{dirname}/*gb\"):\n",
    "        filename_dash = filename.split(\"/\")[-1]\n",
    "#         gbname = filename_dash.split(\"_\")\n",
    "#         gbname = gbname[:-1]\n",
    "#         gbname = list(map(float, gbname))\n",
    "#         tang = min([float(gbname[1])/float(gbname[0]),float(gbname[0])/float(gbname[1])])\n",
    "#         mis_angle = 2*(np.arctan(tang)/np.pi*180)\n",
    "        sigma = int(filename_dash.split(\"_\")[0])\n",
    "        gbe = get_twist_energy(f\"{filename}/results\")\n",
    "#         mis_angle = np.round(mis_angle,5)\n",
    "        \n",
    "        gbe = np.round(gbe,5)\n",
    "        sigma_list.append(sigma)\n",
    "        gbe_list.append(gbe)\n",
    "    result = np.array([sigma_list,gbe_list]).T\n",
    "    col_num = 0\n",
    "    result_sorted = result[np.argsort(result[:, col_num])]\n",
    "    result_sorted = np.hstack((np.array(getsigmas([1,1,0],100))[1].reshape(-1,1),result_sorted[:,1].reshape(-1,1)))\n",
    "    result_sorted = np.vstack([np.array([0,0]),result_sorted,np.array([90,0])])\n",
    "    result_sorted = result_sorted[np.argsort(result_sorted[:, col_num])]\n",
    "    return result_sorted"
   ]
  },
  {
   "cell_type": "code",
   "execution_count": 114,
   "id": "b3410786",
   "metadata": {},
   "outputs": [],
   "source": [
    "def get_110_cnid_twist_gbenergy(dirname):\n",
    "    sigma_list = []\n",
    "    gbe_list = []\n",
    "    for filename in glob.glob(f\"{dirname}/*gb\"):\n",
    "        filename_dash = filename.split(\"/\")[-1]\n",
    "#         gbname = filename_dash.split(\"_\")\n",
    "#         gbname = gbname[:-1]\n",
    "#         gbname = list(map(float, gbname))\n",
    "#         tang = min([float(gbname[1])/float(gbname[0]),float(gbname[0])/float(gbname[1])])\n",
    "#         mis_angle = 2*(np.arctan(tang)/np.pi*180)\n",
    "        sigma = int(filename_dash.split(\"_\")[0])\n",
    "        gbe = get_cnid_energy(f\"{filename}/results\")\n",
    "#         mis_angle = np.round(mis_angle,5)\n",
    "        \n",
    "        gbe = np.round(gbe,5)\n",
    "        sigma_list.append(sigma)\n",
    "        gbe_list.append(gbe)\n",
    "    result = np.array([sigma_list,gbe_list]).T\n",
    "    col_num = 0\n",
    "    result_sorted = result[np.argsort(result[:, col_num])]\n",
    "    result_sorted = np.hstack((np.array(getsigmas([1,1,0],100))[1].reshape(-1,1),result_sorted[:,1].reshape(-1,1)))\n",
    "    result_sorted = np.vstack([np.array([0,0]),result_sorted,np.array([90,0])])\n",
    "    result_sorted = result_sorted[np.argsort(result_sorted[:, col_num])]\n",
    "    return result_sorted"
   ]
  },
  {
   "cell_type": "code",
   "execution_count": 116,
   "id": "8978e5dc",
   "metadata": {},
   "outputs": [],
   "source": [
    "result_sorted = get_110_cnid_twist_gbenergy(\"new_dirs2/110\")"
   ]
  },
  {
   "cell_type": "code",
   "execution_count": 117,
   "id": "3ddfe29c",
   "metadata": {},
   "outputs": [
    {
     "name": "stdout",
     "output_type": "stream",
     "text": [
      "[[   0.            0.        ]\n",
      " [  11.53636237  764.81805   ]\n",
      " [  13.44273868  809.16653   ]\n",
      " [  16.09893395  836.04042   ]\n",
      " [  17.86028367  898.93365   ]\n",
      " [  20.04997572  881.13254   ]\n",
      " [  26.52535202 1027.21033   ]\n",
      " [  31.5863381  1070.82361   ]\n",
      " [  34.89270467 1102.08958   ]\n",
      " [  38.94244127 1081.93824   ]\n",
      " [  44.00342735 1103.89319   ]\n",
      " [  45.97953555 1142.52941   ]\n",
      " [  50.47880364 1130.3726    ]\n",
      " [  55.87670546 1115.84241   ]\n",
      " [  61.01791773 1132.87278   ]\n",
      " [  62.43939689 1147.48469   ]\n",
      " [  70.52877937 1118.1949    ]\n",
      " [  77.88488254 1180.20792   ]\n",
      " [  80.63108442 1179.56865   ]\n",
      " [  86.62771332 1164.33096   ]\n",
      " [  90.            0.        ]]\n"
     ]
    }
   ],
   "source": [
    "print(result_sorted)"
   ]
  },
  {
   "cell_type": "code",
   "execution_count": 106,
   "id": "cba44c9f",
   "metadata": {},
   "outputs": [],
   "source": [
    "def get_111_twist_gbenergy(dirname):\n",
    "    sigma_list = []\n",
    "    gbe_list = []\n",
    "    for filename in glob.glob(f\"{dirname}/*gb\"):\n",
    "        filename_dash = filename.split(\"/\")[-1]\n",
    "#         gbname = filename_dash.split(\"_\")\n",
    "#         gbname = gbname[:-1]\n",
    "#         gbname = list(map(float, gbname))\n",
    "#         tang = min([float(gbname[1])/float(gbname[0]),float(gbname[0])/float(gbname[1])])\n",
    "#         mis_angle = 2*(np.arctan(tang)/np.pi*180)\n",
    "        sigma = int(filename_dash.split(\"_\")[0])\n",
    "        gbe = get_twist_energy(f\"{filename}/results\")\n",
    "#         mis_angle = np.round(mis_angle,5)\n",
    "        \n",
    "        gbe = np.round(gbe,5)\n",
    "        sigma_list.append(sigma)\n",
    "        gbe_list.append(gbe)\n",
    "    result = np.array([sigma_list,gbe_list]).T\n",
    "    col_num = 0\n",
    "    result_sorted = result[np.argsort(result[:, col_num])]\n",
    "    result_sorted = np.hstack((np.array(getsigmas([1,1,1],100))[1].reshape(-1,1),result_sorted[:,1].reshape(-1,1)))\n",
    "    result_sorted = np.vstack([np.array([0,0]),result_sorted])\n",
    "    result_sorted = result_sorted[np.argsort(result_sorted[:, col_num])]\n",
    "    return result_sorted"
   ]
  },
  {
   "cell_type": "code",
   "execution_count": 107,
   "id": "dc23cbc1",
   "metadata": {},
   "outputs": [],
   "source": [
    "def get_111_cnid_twist_gbenergy(dirname):\n",
    "    sigma_list = []\n",
    "    gbe_list = []\n",
    "    for filename in glob.glob(f\"{dirname}/*gb\"):\n",
    "        filename_dash = filename.split(\"/\")[-1]\n",
    "#         gbname = filename_dash.split(\"_\")\n",
    "#         gbname = gbname[:-1]\n",
    "#         gbname = list(map(float, gbname))\n",
    "#         tang = min([float(gbname[1])/float(gbname[0]),float(gbname[0])/float(gbname[1])])\n",
    "#         mis_angle = 2*(np.arctan(tang)/np.pi*180)\n",
    "        sigma = int(filename_dash.split(\"_\")[0])\n",
    "        gbe = get_cnid_energy(f\"{filename}/results\")\n",
    "#         mis_angle = np.round(mis_angle,5)\n",
    "        \n",
    "        gbe = np.round(gbe,5)\n",
    "        sigma_list.append(sigma)\n",
    "        gbe_list.append(gbe)\n",
    "    result = np.array([sigma_list,gbe_list]).T\n",
    "    col_num = 0\n",
    "    result_sorted = result[np.argsort(result[:, col_num])]\n",
    "    result_sorted = np.hstack((np.array(getsigmas([1,1,1],100))[1].reshape(-1,1),result_sorted[:,1].reshape(-1,1)))\n",
    "    result_sorted = np.vstack([np.array([0,0]),result_sorted])\n",
    "    result_sorted = result_sorted[np.argsort(result_sorted[:, col_num])]\n",
    "    return result_sorted"
   ]
  },
  {
   "cell_type": "code",
   "execution_count": null,
   "id": "16863ee4",
   "metadata": {},
   "outputs": [],
   "source": []
  },
  {
   "cell_type": "code",
   "execution_count": 123,
   "id": "844c6400",
   "metadata": {},
   "outputs": [
    {
     "name": "stdout",
     "output_type": "stream",
     "text": [
      "new_dirs/Cu100\n",
      "Cu100\n",
      "100\n",
      "new_dirs/Cu110\n",
      "Cu110\n",
      "110\n",
      "new_dirs/Cu111\n",
      "Cu111\n",
      "111\n"
     ]
    }
   ],
   "source": [
    "wb = Workbook()\n",
    "\n",
    "for i,dirname in enumerate(glob.glob(\"new_dirs/*\")):\n",
    "    print(dirname)\n",
    "    name = dirname.split(\"/\")[-1]\n",
    "    name_dash = name.split(\"_\")[0]\n",
    "    axis = \"\".join(list(name_dash)[-3:])\n",
    "    print(name)\n",
    "    print(axis)\n",
    "    if i == 0:\n",
    "        ws = wb.active\n",
    "        ws.title = f\"{name}\"\n",
    "\n",
    "    else:\n",
    "        ws = wb.create_sheet(title = f\"{name}\")\n",
    "    \n",
    "    if axis==\"100\":\n",
    "        result_sorted = get_100_twist_gbenergy(dirname)\n",
    "        result_sorted_cnid = get_100_cnid_twist_gbenergy(f\"new_dirs2/{name}\")\n",
    "        result_tot = np.hstack((result_sorted,result_sorted_cnid[:,1].reshape(-1,1))).tolist()\n",
    "        make_excel(ws,name_dash,result_tot)\n",
    "#         gbname = np.repeat(f\"{name}\",len(result_sorted))\n",
    "#         result_sorted = np.hstack((result_sorted,gbname.reshape(-1,1)))\n",
    "    elif axis==\"110\":\n",
    "        result_sorted = get_110_twist_gbenergy(dirname)\n",
    "        result_sorted_cnid = get_110_cnid_twist_gbenergy(f\"new_dirs2/{name}\")\n",
    "        result_tot = np.hstack((result_sorted,result_sorted_cnid[:,1].reshape(-1,1))).tolist()\n",
    "        make_excel(ws,name_dash,result_tot)\n",
    "#         gbname = np.repeat(f\"{name}\",len(result_sorted))\n",
    "#         result_sorted = np.hstack((result_sorted,gbname.reshape(-1,1)))\n",
    "    else:\n",
    "        result_sorted = get_111_twist_gbenergy(dirname)\n",
    "        result_sorted_cnid = get_111_cnid_twist_gbenergy(f\"new_dirs2/{name}\")\n",
    "        result_tot = np.hstack((result_sorted,result_sorted_cnid[:,1].reshape(-1,1))).tolist()\n",
    "        make_excel(ws,name_dash,result_tot)"
   ]
  },
  {
   "cell_type": "code",
   "execution_count": null,
   "id": "109f4e36",
   "metadata": {},
   "outputs": [],
   "source": []
  },
  {
   "cell_type": "code",
   "execution_count": null,
   "id": "8ca78071",
   "metadata": {},
   "outputs": [],
   "source": []
  },
  {
   "cell_type": "code",
   "execution_count": null,
   "id": "e8af0532",
   "metadata": {},
   "outputs": [],
   "source": []
  },
  {
   "cell_type": "code",
   "execution_count": 118,
   "id": "05044148",
   "metadata": {},
   "outputs": [],
   "source": [
    "result_sorted = get_111_cnid_twist_gbenergy(\"new_dirs2/111\")"
   ]
  },
  {
   "cell_type": "code",
   "execution_count": 119,
   "id": "0e41328d",
   "metadata": {},
   "outputs": [
    {
     "name": "stdout",
     "output_type": "stream",
     "text": [
      "[[  0.           0.        ]\n",
      " [ 10.41743821 279.58516   ]\n",
      " [ 11.63505129 287.61741   ]\n",
      " [ 15.17817894 302.67793   ]\n",
      " [ 17.89655113 308.91071   ]\n",
      " [ 24.43269768 315.57717   ]\n",
      " [ 27.7957725  315.916     ]\n",
      " [ 30.5906886  316.99514   ]\n",
      " [ 33.99217611 316.26948   ]\n",
      " [ 38.2132107  309.26612   ]\n",
      " [ 43.5735786  305.84382   ]\n",
      " [ 46.82644889 294.74996   ]\n",
      " [ 50.56999209 270.90821   ]\n",
      " [ 52.65900698 248.11257   ]\n",
      " [ 60.          26.27127   ]]\n"
     ]
    }
   ],
   "source": [
    "print(result_sorted)"
   ]
  },
  {
   "cell_type": "code",
   "execution_count": null,
   "id": "3f2ec245",
   "metadata": {},
   "outputs": [],
   "source": []
  },
  {
   "cell_type": "code",
   "execution_count": 120,
   "id": "9590fd9a",
   "metadata": {},
   "outputs": [],
   "source": [
    "result_sorted = get_100_cnid_twist_gbenergy(\"new_dirs2/100\")"
   ]
  },
  {
   "cell_type": "code",
   "execution_count": 121,
   "id": "17b830f2",
   "metadata": {},
   "outputs": [
    {
     "name": "stdout",
     "output_type": "stream",
     "text": [
      "[[  0.           0.        ]\n",
      " [  8.79741071 443.28014   ]\n",
      " [ 10.38885782 481.16142   ]\n",
      " [ 12.68038349 526.40883   ]\n",
      " [ 14.2500327  552.52717   ]\n",
      " [ 16.26020471 579.5698    ]\n",
      " [ 18.92464442 610.09097   ]\n",
      " [ 22.61986495 634.98602   ]\n",
      " [ 25.98923358 654.833     ]\n",
      " [ 28.07248694 660.00703   ]\n",
      " [ 31.8907918  666.76522   ]\n",
      " [ 36.86989765 651.14951   ]\n",
      " [ 41.11209044 658.55463   ]\n",
      " [ 42.07502205 658.25857   ]\n",
      " [ 43.60281897 656.30261   ]\n",
      " [ 45.           0.        ]]\n"
     ]
    }
   ],
   "source": [
    "print(result_sorted)"
   ]
  },
  {
   "cell_type": "code",
   "execution_count": 74,
   "id": "09bc4400",
   "metadata": {},
   "outputs": [
    {
     "data": {
      "text/plain": [
       "array([[60.        ],\n",
       "       [38.2132107 ],\n",
       "       [27.7957725 ],\n",
       "       [46.82644889],\n",
       "       [17.89655113],\n",
       "       [50.56999209],\n",
       "       [15.17817894],\n",
       "       [43.5735786 ],\n",
       "       [52.65900698],\n",
       "       [24.43269768],\n",
       "       [11.63505129],\n",
       "       [33.99217611],\n",
       "       [10.41743821],\n",
       "       [30.5906886 ]])"
      ]
     },
     "execution_count": 74,
     "metadata": {},
     "output_type": "execute_result"
    }
   ],
   "source": [
    "np.array(getsigmas([1,1,1],100))[1].reshape(-1,1)"
   ]
  },
  {
   "cell_type": "code",
   "execution_count": 75,
   "id": "8f9ef429",
   "metadata": {},
   "outputs": [],
   "source": [
    "test = np.array([[2,3],\n",
    "             [1,4],\n",
    "             [3,5]])"
   ]
  },
  {
   "cell_type": "code",
   "execution_count": 76,
   "id": "97d0464c",
   "metadata": {},
   "outputs": [
    {
     "data": {
      "text/plain": [
       "array([[1, 4],\n",
       "       [2, 3],\n",
       "       [3, 5]])"
      ]
     },
     "execution_count": 76,
     "metadata": {},
     "output_type": "execute_result"
    }
   ],
   "source": [
    "test[np.argsort(test[:, 0])]"
   ]
  },
  {
   "cell_type": "code",
   "execution_count": null,
   "id": "5b72d638",
   "metadata": {},
   "outputs": [],
   "source": []
  },
  {
   "cell_type": "code",
   "execution_count": null,
   "id": "b2a8c85a",
   "metadata": {},
   "outputs": [],
   "source": []
  },
  {
   "cell_type": "code",
   "execution_count": 9,
   "id": "d5d20ada",
   "metadata": {},
   "outputs": [],
   "source": [
    "def wrap_at_periodic_boundary_condition(xc,yc,base1,base2):\n",
    "    rc = np.array([xc,yc])\n",
    "    v1 = np.array([base1]).T\n",
    "    v2 = np.array([base2]).T\n",
    "    A = np.hstack((v1,v2))\n",
    "    rf = dot(inv(A),rc)-np.floor(dot(inv(A),rc))\n",
    "    r_reduced = dot(A,rf)\n",
    "    return r_reduced"
   ]
  },
  {
   "cell_type": "code",
   "execution_count": 10,
   "id": "420912c2",
   "metadata": {},
   "outputs": [],
   "source": [
    "def get_cnid_basis(filename):\n",
    "    with open(f\"{filename}\",\"r\") as f:\n",
    "        lines = f.readlines()\n",
    "        cnidv1y = float(lines[2].split()[-1])\n",
    "        cnidv1z = float(lines[3].split()[-1])\n",
    "        cnidv2y = float(lines[4].split()[-1])\n",
    "        cnidv2z = float(lines[5].split()[-1])\n",
    "        na = float(lines[6].split()[-1])\n",
    "        nb = float(lines[7].split()[-1])\n",
    "        cnidv1 = np.round(na*np.array([cnidv1y,cnidv1z]),10)\n",
    "        cnidv2 = np.round(nb*np.array([cnidv2y,cnidv2z]),10)\n",
    "    return cnidv1, cnidv2"
   ]
  },
  {
   "cell_type": "code",
   "execution_count": 186,
   "id": "740f45f9",
   "metadata": {},
   "outputs": [],
   "source": [
    "cnidv1, cnidv2 = get_cnid_basis(\"611/paras\")"
   ]
  },
  {
   "cell_type": "code",
   "execution_count": 11,
   "id": "975a66c3",
   "metadata": {},
   "outputs": [],
   "source": [
    "def read_atomin(filename):\n",
    "    #read atom positions from POSCAR\n",
    "    with open (f\"{filename}\",'r') as f:\n",
    "        lines = f.readlines()\n",
    "    atoms = np.array([0,0,0,0,0])\n",
    "    for i in range(13,len(lines)):\n",
    "        atoms = np.vstack((atoms,np.array(lines[i].split(),dtype = float)))\n",
    "    atoms = np.delete(atoms,0,axis= 0)\n",
    "    atoms = np.delete(atoms,[0,1],axis=1)\n",
    "    a = float(lines[5].split()[1])\n",
    "    b = float(lines[6].split()[1])\n",
    "    c = float(lines[7].split()[1])\n",
    "    return a, b, c, atoms"
   ]
  },
  {
   "cell_type": "code",
   "execution_count": 66,
   "id": "75711c73",
   "metadata": {},
   "outputs": [],
   "source": [
    "a,b,c,atoms = read_atomin(\"922/atominfile\")\n",
    "cnidv1, cnidv2 = get_cnid_basis(\"922/paras\")"
   ]
  },
  {
   "cell_type": "code",
   "execution_count": 67,
   "id": "d9f50d8e",
   "metadata": {},
   "outputs": [],
   "source": [
    "y = np.round(atoms[:,1],10)\n",
    "z = np.round(atoms[:,2],10)"
   ]
  },
  {
   "cell_type": "code",
   "execution_count": 68,
   "id": "011d551f",
   "metadata": {},
   "outputs": [],
   "source": [
    "x_reduced, y_reduced = wrap_at_periodic_boundary_condition(y,z,cnidv1,cnidv2)"
   ]
  },
  {
   "cell_type": "code",
   "execution_count": 69,
   "id": "a060fe4d",
   "metadata": {},
   "outputs": [
    {
     "data": {
      "text/plain": [
       "17088"
      ]
     },
     "execution_count": 69,
     "metadata": {},
     "output_type": "execute_result"
    }
   ],
   "source": [
    "len(x_reduced)"
   ]
  },
  {
   "cell_type": "code",
   "execution_count": 34,
   "id": "11691ea5",
   "metadata": {
    "scrolled": true
   },
   "outputs": [
    {
     "data": {
      "image/png": "[encoded data removed]",
      "text/plain": [
       "<Figure size 432x288 with 1 Axes>"
      ]
     },
     "metadata": {
      "needs_background": "light"
     },
     "output_type": "display_data"
    }
   ],
   "source": [
    "plt.scatter(x_reduced,y_reduced)\n",
    "plt.scatter(-0.196902041874141, -1.18472727109279,c=\"red\")\n",
    "plt.scatter(-2.36282450248969, -1.18472727109279,c=\"red\")\n",
    "plt.text(-0.8, -3, f'({-0.1969}, {-1.1847})', fontsize=10)\n",
    "plt.text(-2.4, -3, f'({-2.3628}, {-1.1847})', fontsize=10)\n",
    "plt.savefig(\"411.jpeg\")"
   ]
  },
  {
   "cell_type": "code",
   "execution_count": 28,
   "id": "ed6b52b9",
   "metadata": {
    "scrolled": false
   },
   "outputs": [
    {
     "data": {
      "image/png": "[encoded data removed]",
      "text/plain": [
       "<Figure size 432x288 with 1 Axes>"
      ]
     },
     "metadata": {
      "needs_background": "light"
     },
     "output_type": "display_data"
    }
   ],
   "source": [
    "plt.scatter(x_reduced,y_reduced)\n",
    "plt.scatter(-0.196902041874141, -1.19842132814034,c=\"red\")\n",
    "plt.scatter(-2.36282450248969, -1.19842132814034,c=\"red\")\n",
    "plt.text(-0.8, -3, f'({-0.1969}, {-1.1984})', fontsize=10)\n",
    "plt.text(-2.4, -3, f'({-2.3628}, {-1.1984})', fontsize=10)\n",
    "plt.savefig(\"611.jpeg\")"
   ]
  },
  {
   "cell_type": "code",
   "execution_count": 61,
   "id": "b7d640e6",
   "metadata": {
    "scrolled": true
   },
   "outputs": [
    {
     "data": {
      "image/png": "[encoded data removed]",
      "text/plain": [
       "<Figure size 432x288 with 1 Axes>"
      ]
     },
     "metadata": {
      "needs_background": "light"
     },
     "output_type": "display_data"
    }
   ],
   "source": [
    "plt.scatter(x_reduced,y_reduced)\n",
    "plt.scatter(-3.56682094565846e-16, -19.3956319704082,c=\"red\")\n",
    "plt.scatter(-0.393804083748282, -6.39855900054704,c=\"red\")\n",
    "plt.scatter(-2.16592246061555, -6.39855900054704,c=\"red\")\n",
    "# plt.text(-0.5, -20, f'({0}, {-19.3956})', fontsize=10)\n",
    "plt.text(-2.2, -9, f'({2.1659}, {-6.3985})', fontsize=10)\n",
    "plt.text(-0.8, -9, f'({-0.3938}, {-6.3985})', fontsize=10)\n",
    "# plt.ylim([y_reduced.min(),-18])\n",
    "plt.ylim([-10,-5])\n",
    "plt.savefig(\"811_2.jpeg\")\n",
    "# plt.ylim([y_reduced.min(),-18])\n",
    "# plt.ylim([-10,-5])"
   ]
  },
  {
   "cell_type": "code",
   "execution_count": 72,
   "id": "94be007b",
   "metadata": {
    "scrolled": false
   },
   "outputs": [
    {
     "data": {
      "text/plain": [
       "(-10.0, -8.0)"
      ]
     },
     "execution_count": 72,
     "metadata": {},
     "output_type": "execute_result"
    },
    {
     "data": {
      "image/png": "[encoded data removed]",
      "text/plain": [
       "<Figure size 432x288 with 1 Axes>"
      ]
     },
     "metadata": {
      "needs_background": "light"
     },
     "output_type": "display_data"
    }
   ],
   "source": [
    "# plt.figure(figsize=(2,25))\n",
    "plt.scatter(x_reduced,y_reduced)\n",
    "plt.scatter(-0.590706125622424, -9.57953530819949,c=\"red\")\n",
    "plt.scatter(-1.96902041874141, -9.57953530819949,c=\"red\")\n",
    "plt.ylim([-10,-8])"
   ]
  },
  {
   "cell_type": "code",
   "execution_count": null,
   "id": "1a85ed62",
   "metadata": {},
   "outputs": [],
   "source": []
  },
  {
   "cell_type": "code",
   "execution_count": 106,
   "id": "8c950470",
   "metadata": {},
   "outputs": [],
   "source": [
    "result_df = pd.DataFrame(result_tot)\n",
    "result_df[0] = result_df[0].astype(float)\n",
    "result_df[1] = result_df[1].astype(float)\n",
    "result_df.to_excel(\"my_model.xlsx\")"
   ]
  },
  {
   "cell_type": "code",
   "execution_count": null,
   "id": "75baae02",
   "metadata": {},
   "outputs": [],
   "source": []
  },
  {
   "cell_type": "code",
   "execution_count": null,
   "id": "36de07ea",
   "metadata": {},
   "outputs": [],
   "source": []
  },
  {
   "cell_type": "code",
   "execution_count": null,
   "id": "5218abc6",
   "metadata": {},
   "outputs": [],
   "source": []
  },
  {
   "cell_type": "code",
   "execution_count": null,
   "id": "698a488b",
   "metadata": {},
   "outputs": [],
   "source": []
  }
 ],
 "metadata": {
  "kernelspec": {
   "display_name": "Python 3 (ipykernel)",
   "language": "python",
   "name": "python3"
  },
  "language_info": {
   "codemirror_mode": {
    "name": "ipython",
    "version": 3
   },
   "file_extension": ".py",
   "mimetype": "text/x-python",
   "name": "python",
   "nbconvert_exporter": "python",
   "pygments_lexer": "ipython3",
   "version": "3.8.3"
  }
 },
 "nbformat": 4,
 "nbformat_minor": 5
}
